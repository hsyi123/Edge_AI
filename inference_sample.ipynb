{
  "cells": [
    {
      "cell_type": "code",
      "execution_count": null,
      "metadata": {
        "colab": {
          "base_uri": "https://localhost:8080/"
        },
        "id": "lERVfqxYp2z3",
        "outputId": "dfad70ea-c6ce-4266-df10-292a921fe3d0"
      },
      "outputs": [],
      "source": [
        "%cd /content/\n",
        "# 把資料生成工具 clone 下來\n",
        "!git clone https://github.com/rachellin0105/Single_char_image_generator.git\n",
        "%cd Single_char_image_generator"
      ]
    },
    {
      "cell_type": "code",
      "execution_count": null,
      "metadata": {
        "id": "ZSVxufq8qD27"
      },
      "outputs": [],
      "source": [
        "# Single_char_image_generator/chars.txt 是字典，預設有102字，可以在上面增減字。這邊因為是示範，我們只留前10個字。\n",
        "!head -n 40 chars.txt > temp.txt\n",
        "!mv temp.txt chars.txt"
      ]
    },
    {
      "cell_type": "code",
      "execution_count": null,
      "metadata": {
        "colab": {
          "base_uri": "https://localhost:8080/"
        },
        "id": "U5TCzgg1p9uW",
        "outputId": "bb4615b9-2be5-405d-b96f-e6457d674efc"
      },
      "outputs": [],
      "source": [
        "# 安裝它需要的套件\n",
        "!python -m pip install -r requirements.txt\n",
        "\n",
        "# 用一行指令執行生成 \n",
        "!python OCR_image_generator_single_ch.py --num_per_word=10"
      ]
    },
    {
      "cell_type": "code",
      "execution_count": null,
      "metadata": {
        "colab": {
          "base_uri": "https://localhost:8080/"
        },
        "id": "dWsWSIqlvwrw",
        "outputId": "cdb005f4-486d-4d0d-edad-c02ccb7ffa69"
      },
      "outputs": [],
      "source": [
        "!git remote add Edge_AI https://github.com/hsyi123/Edge_AI.git\n",
        "!git fetch Edge_AI\n",
        "!git checkout Edge_AI/main checkpoint.zip\n",
        "!unzip checkpoint.zip\n",
        "!rm checkpoint.zip"
      ]
    },
    {
      "cell_type": "code",
      "execution_count": null,
      "metadata": {
        "colab": {
          "base_uri": "https://localhost:8080/"
        },
        "id": "5zxeO2RUqMvO",
        "outputId": "b01c77a7-5bb7-4fbe-8e67-8353f3b1f888"
      },
      "outputs": [],
      "source": [
        "from PIL import Image\n",
        "\n",
        "import torch\n",
        "import torchvision.models as models\n",
        "import torchvision.transforms as transforms\n",
        "\n",
        "save_path = './checkpoint.pt'\n",
        "\n",
        "# 创建一个与原始模型相同结构的模型实例\n",
        "net = models.resnet18(num_classes=40)\n",
        "\n",
        "# 加载保存的权重\n",
        "checkpoint = torch.load(save_path, map_location='cpu')\n",
        "net.load_state_dict(checkpoint['model_state_dict'])\n",
        "\n",
        "# 设置模型为评估模式\n",
        "net.eval()\n",
        "\n",
        "# 這裡可以自己修改成其他要推理的圖\n",
        "image_path = './output/img_0000000.jpg'\n",
        "image = Image.open(image_path)\n",
        "transform = transforms.Compose([\n",
        "    transforms.Resize((224, 224)),\n",
        "    transforms.ToTensor(),\n",
        "    transforms.Normalize(mean=[0.485, 0.456, 0.406], std=[0.229, 0.224, 0.225])\n",
        "])\n",
        "input_image = transform(image).unsqueeze(0)\n",
        "\n",
        "# 使用模型进行推理\n",
        "with torch.no_grad():\n",
        "    outputs = net(input_image)\n",
        "\n",
        "# 获取预测结果\n",
        "_, predicted = torch.max(outputs, 1)\n",
        "prediction = predicted.item()\n",
        "\n",
        "# 输出预测结果\n",
        "print('Prediction:', prediction)"
      ]
    },
    {
      "cell_type": "code",
      "execution_count": null,
      "metadata": {
        "colab": {
          "base_uri": "https://localhost:8080/",
          "height": 423
        },
        "id": "jYeZ8CSXquOM",
        "outputId": "c54ae9d9-437e-4db9-a66e-63c3e63033e8"
      },
      "outputs": [],
      "source": [
        "import matplotlib.pyplot as plt\n",
        "\n",
        "# 定义类别标签映射\n",
        "class_labels = ['肉','古','幼','酥','成','傢','婦','汎','貨','理','男','大','老','樹','民','鴻','禾','髮','酒','麗','鹽','容','由','寵','中','速','食','汽','子','院','批','洗','素','我','快','雞','出','動','品','活']  # 替换为你的实际类别标签\n",
        "\n",
        "# 获取预测结果\n",
        "_, predicted = torch.max(outputs, 1)\n",
        "prediction = predicted.item()\n",
        "\n",
        "# 根据类别索引获取类别标签\n",
        "predicted_label = class_labels[prediction-1]\n",
        "\n",
        "image = Image.open(image_path)\n",
        "\n",
        "plt.imshow(image)\n",
        "plt.axis('off')\n",
        "plt.show()\n",
        "# 输出预测结果\n",
        "print('Prediction:', predicted_label)"
      ]
    }
  ],
  "metadata": {
    "colab": {
      "provenance": []
    },
    "kernelspec": {
      "display_name": "Python 3",
      "name": "python3"
    }
  },
  "nbformat": 4,
  "nbformat_minor": 0
}
